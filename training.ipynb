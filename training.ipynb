{
 "cells": [
  {
   "cell_type": "markdown",
   "metadata": {},
   "source": [
    "# Robot Controller "
   ]
  },
  {
   "cell_type": "markdown",
   "metadata": {},
   "source": [
    "Libraries"
   ]
  },
  {
   "cell_type": "code",
   "execution_count": 1,
   "metadata": {},
   "outputs": [],
   "source": [
    "import time  \n",
    "import json, math\n",
    "from IPython.display import clear_output\n",
    "\n",
    "import numpy as np\n",
    "from numpy.linalg import inv\n",
    "from scipy import stats\n",
    "import matplotlib.pyplot as plt"
   ]
  },
  {
   "cell_type": "markdown",
   "metadata": {},
   "source": [
    " Controller setup"
   ]
  },
  {
   "cell_type": "code",
   "execution_count": 2,
   "metadata": {},
   "outputs": [],
   "source": [
    "e = np.zeros((3,1));\n",
    "ea = np.zeros((3,1));\n",
    "lamda = 0.01\n",
    "\n",
    "k1 = ( np.diag([1.1,2.3,1.3]));\n",
    "k2 = (np.diag([1.2,2.3,3.3]));\n",
    "k3 = ( np.diag([1.1,2.3,1.3]));\n",
    "\n",
    "with open('data2.json', 'r') as fa:\n",
    "                data = json.load(fa)\n",
    "                \n",
    "                k1[0,0] = data['controller']['k11']\n",
    "                k1[1,1] = data['controller']['k12']\n",
    "                k1[2,2] = data['controller']['k13']\n",
    "                \n",
    "                k2[0,0] = data['controller']['k21']\n",
    "                k2[1,1] = data['controller']['k22']\n",
    "                k2[2,2] = data['controller']['k23']\n",
    "                \n",
    "                k3[0,0] = data['controller']['k31']\n",
    "                k3[1,1] = data['controller']['k32']\n",
    "                k3[2,2] = data['controller']['k33']\n",
    "                \n",
    "                vmax = data['controller']['vmax']\n",
    "                vmax2 = data['poss_obs']['vmax']\n",
    "                T = data['poss']['T']\n",
    "                \n",
    "                xo_refr = data['poss_obs']['xref']\n",
    "                yo_refr = data['poss_obs']['yref']\n",
    "                zo_refr = data['poss_obs']['zref']\n",
    "                \n",
    "                dmin = data['poss_obs']['dmin']\n",
    "                dmin2 = data['poss_obs']['dmin2']\n",
    "                \n",
    "                kd1 = data['poss_obs']['kd1']\n",
    "                kd2 = data['poss_obs']['kd2']\n",
    "                kd3 = data['poss_obs']['kd3']\n",
    "                \n",
    "                tau = data['poss_obs']['tau']\n",
    "                \n",
    "                kangle = data['poss_obs']['kangle']"
   ]
  },
  {
   "cell_type": "markdown",
   "metadata": {},
   "source": [
    "State variables"
   ]
  },
  {
   "cell_type": "code",
   "execution_count": 3,
   "metadata": {},
   "outputs": [],
   "source": [
    "P = np.array([0.2,0.2,0.2]).reshape(3,1);\n",
    "Pp = np.zeros((3,1000));\n",
    "P_obs = np.array([0.2,0.2,0.2]).reshape(3,1);\n",
    "Po = np.array([2.1,2.1,10.1]).reshape(3,1);\n",
    "\n",
    "Pa = np.zeros((3,1));  \n",
    "\n",
    "V2 = np.zeros((3,1000));  \n",
    "V = np.array([0.0,0.0,0.0]).reshape(3,1)\n",
    "\n",
    "with open('bt2pointsb.json', 'r') as fa:\n",
    "        data = json.load(fa)\n",
    "        n_points = data['general']['n']\n",
    "        n_counter = 1\n"
   ]
  },
  {
   "cell_type": "markdown",
   "metadata": {},
   "source": [
    "Robot initial position"
   ]
  },
  {
   "cell_type": "code",
   "execution_count": 4,
   "metadata": {},
   "outputs": [],
   "source": [
    "pose = [0.15,-0.43575, 0.35596]\n",
    "xn = float(pose[0])\n",
    "yn = float(pose[1])\n",
    "zn = float(pose[2])"
   ]
  },
  {
   "cell_type": "markdown",
   "metadata": {},
   "source": [
    "Obstacle Position"
   ]
  },
  {
   "cell_type": "code",
   "execution_count": 5,
   "metadata": {},
   "outputs": [],
   "source": [
    "df = [0.5,-0.43575,0.36568]       \n",
    "xo_refr = df[0] \n",
    "yo_refr = df[1]\n",
    "zo_refr = df[2]     "
   ]
  },
  {
   "cell_type": "markdown",
   "metadata": {},
   "source": [
    "Control Iteration"
   ]
  },
  {
   "cell_type": "code",
   "execution_count": 37,
   "metadata": {},
   "outputs": [
    {
     "data": {
      "image/png": "[encoded data removed]",
      "text/plain": [
       "<Figure size 432x288 with 1 Axes>"
      ]
     },
     "metadata": {
      "needs_background": "light"
     },
     "output_type": "display_data"
    }
   ],
   "source": [
    "i=0\n",
    "while i<400:\n",
    "        i=i+1\n",
    "        tic = time.clock()\n",
    "        clear_output(wait=True)\n",
    "        \n",
    "        #Obstacle position\n",
    "     \n",
    "        P_obs[0,0] = float(xo_refr)\n",
    "        P_obs[1,0] = float(yo_refr)\n",
    "        P_obs[2,0] = float(zo_refr)\n",
    "\n",
    "        \n",
    "        #Robot Position n-1\n",
    "        \n",
    "        P[0,0] = float(xn)\n",
    "        P[1,0] = float(yn)\n",
    "        P[2,0] = float(zn)\n",
    "                     \n",
    "        \n",
    "        #Desired  robot position\n",
    "        if np.linalg.norm(e) < 0.01 :\n",
    "            n_counter = n_counter + 1\n",
    "            if n_counter > n_points :\n",
    "                n_counter = 1\n",
    "            \n",
    "            with open('bt2pointsb.json', 'r') as fa:\n",
    "                data = json.load(fa)\n",
    "                n_points = data['general']['n']\n",
    "                \n",
    "                x_refr = data['position'+str(n_counter)]['xref']\n",
    "                y_refr = data['position'+str(n_counter)]['yref']\n",
    "                z_refr = data['position'+str(n_counter)]['zref']\n",
    "                  \n",
    "                Pa[0,0] = float(x_refr)\n",
    "                Pa[1,0] = float(y_refr)\n",
    "                Pa[2,0] = float(z_refr)\n",
    "                \n",
    "       \n",
    "    #Distance between robot and obstacle\n",
    "        ex = xo_refr-xn\n",
    "        ey = yo_refr-yn\n",
    "        ez = zo_refr-zn\n",
    "        distance = round(math.sqrt(ex**2 + ey**2 + ez**2),4)\n",
    "\n",
    "                \n",
    "        #Controller calculation\n",
    "        e = Pa - P\n",
    "        hv = np.matmul(k2,np.tanh(np.matmul(k1,e) + np.matmul(k3,e-ea)))\n",
    "        ea = e\n",
    "        \n",
    "        #Collision avoidance algorithm\n",
    "        \n",
    "        r_ao = P_obs - P\n",
    "        n_r_ao = np.linalg.norm(r_ao)\n",
    "        \n",
    "        #First collision condition\n",
    "        if n_r_ao < dmin and n_r_ao > dmin2:\n",
    "            teta = np.arccos(np.matmul(r_ao.transpose(),e)/ (np.linalg.norm(r_ao)*np.linalg.norm(e)) )\n",
    "            alfa = np.arccos(np.matmul(r_ao.transpose(),-P)/ (np.linalg.norm(r_ao)*np.linalg.norm(P)) ) \n",
    "            beta = np.arccos(np.matmul(e.transpose(),-P)/ (np.linalg.norm(P)*np.linalg.norm(e)) )\n",
    "\n",
    "            #second collision condition\n",
    "            if  teta < np.pi*kangle/180:\n",
    "                nr = P / np.linalg.norm(P)\n",
    "                nrg = e / np.linalg.norm(e)\n",
    "                nv = V / np.linalg.norm(V)\n",
    "                nro = r_ao / np.linalg.norm(r_ao)\n",
    "                \n",
    "                # SPEED    \n",
    "                a = np.cross(nro.flatten(),nv.flatten())\n",
    "                b = np.cross(a.flatten(),nro.flatten())\n",
    "                b = b /np.linalg.norm(b)\n",
    "                P_aux = np.zeros((3,1)) \n",
    "                P_aux[0,0] = -float(xn)\n",
    "                P_aux[1,0] = -float(yn) \n",
    "                ang_aux = np.arccos(np.matmul(b,nr)/ (np.linalg.norm(nr)*np.linalg.norm(b)) )\n",
    "                if ang_aux > np.pi/2 :\n",
    "                    b = b\n",
    "                else :\n",
    "                    b = -b\n",
    "  \n",
    "                # AXIS Z\n",
    "                a1 = np.cross(nro.flatten(),P_aux.flatten())\n",
    "                b1 = np.cross(a1.flatten(),nro.flatten())\n",
    "                b1 = b1 /np.linalg.norm(b1)\n",
    "                ang_aux = np.arccos(np.matmul(b1,nr)/ (np.linalg.norm(nr)*np.linalg.norm(b1)) )\n",
    "\n",
    "                             \n",
    "                if ang_aux > np.pi/2 :\n",
    "                    b1 = b1\n",
    "                else :\n",
    "                    b1 = -b1\n",
    "                             \n",
    "                             \n",
    "                ur = r_ao/np.linalg.norm(r_ao)\n",
    "                Fk = (1/(np.power(n_r_ao,3)))\n",
    "                Fd = np.matmul(V.reshape([1,3]),ur.reshape([3,1]))\n",
    "                Ft = kd1*b.reshape([3,1])*Fk + kd2*b1.reshape([3,1])*Fk - kd3*Fk*ur.reshape([3,1]) \n",
    "\n",
    "                vx1 = np.exp(-dmin*tau)*Ft[0,0] + (1-np.exp(-dmin*tau))*hv[0,0]\n",
    "                vy1 = np.exp(-dmin*tau)*Ft[1,0] + (1-np.exp(-dmin*tau))*hv[1,0]\n",
    "                vz1 = np.exp(-dmin*tau)*Ft[2,0] + (1-np.exp(-dmin*tau))*hv[2,0]\n",
    "                             \n",
    "            else: \n",
    "                             \n",
    "                ur = r_ao/np.linalg.norm(r_ao)\n",
    "                Fk = (1/(np.power(n_r_ao,3)))\n",
    "                Ft = - kd3*Fk*ur.reshape([3,1]) \n",
    "                             \n",
    "                vx1 = 0.8*np.exp(-dmin*tau)*hv[0,0] + 1.2*(1-np.exp(-dmin*tau))*Ft[0,0]\n",
    "                vy1 = 0.8*np.exp(-dmin*tau)*hv[1,0] + 1.2*(1-np.exp(-dmin*tau))*Ft[1,0]\n",
    "                vz1 = 0.8*np.exp(-dmin*tau)*hv[2,0] + 1.2*(1-np.exp(-dmin*tau))*Ft[2,0]\n",
    "        \n",
    "        elif n_r_ao < dmin2:\n",
    "                             \n",
    "            vx1 = 0\n",
    "            vy1 = 0\n",
    "            vz1 = 0\n",
    "            \n",
    "            \n",
    "            while n_r_ao < dmin2+0.01:            \n",
    "                      \n",
    "                P_obs[0,0] = float(xo_refr)\n",
    "                P_obs[1,0] = float(yo_refr)\n",
    "                P_obs[2,0] = float(zo_refr)\n",
    "\n",
    "                r_ao = P_obs - P\n",
    "                n_r_ao = np.linalg.norm(r_ao)\n",
    "\n",
    "        else :\n",
    "            vx1 = hv[0,0]\n",
    "            vy1 = hv[1,0]\n",
    "            vz1 = hv[2,0]\n",
    "        \n",
    "        \n",
    "        #Speed limits\n",
    "        VMAX = np.sqrt(vx1*vx1+vy1*vy1+vz1*vz1) \n",
    "        \n",
    "        if (VMAX > vmax):\n",
    "            vx1 = vx1*vmax/VMAX\n",
    "            vy1 = vy1*vmax/VMAX\n",
    "            vz1 = vz1*vmax/VMAX\n",
    "\n",
    "#Update velocity vector                             \n",
    "        V[0,0] = vx1\n",
    "        V[1,0] = vy1\n",
    "        V[2,0] = vz1\n",
    "        \n",
    "        V2[0,i] = vx1\n",
    "        V2[1,i] = vy1\n",
    "        V2[2,i] = vz1\n",
    "        \n",
    "        #  Update position robot\n",
    "        sample_time=time.clock()-tic\n",
    "        xn = float(xn+vx1*0.05)\n",
    "        yn = float(yn+vy1*0.05)\n",
    "        zn = float(zn+vz1*0.05)\n",
    "      \n",
    "        Pp[0,i] = float(xn)\n",
    "        Pp[1,i] = float(yn)\n",
    "        Pp[2,i] = float(zn)\n",
    "        \n",
    "        \n",
    "        #Plot trajectory\n",
    "        fig = plt.figure()\n",
    "        ax = fig.add_subplot(1, 1, 1)\n",
    "        \n",
    "        ax.plot(Pp[0,(i-40):i+1], Pp[1,(i-40):i+1], 'r')  #plot 4o last points    \n",
    "        ax.plot(xn, yn, 'ro')   #plot last position\n",
    "        ax.plot(0.15, y_refr, 'bs',0.9, y_refr, 'bs') #plot target points\n",
    "        ax.plot(xo_refr,yo_refr,'rs')  #plot obstacle\n",
    "        \n",
    "        #plot potential field\n",
    "        circle1 =plt.Circle((xo_refr,yo_refr), dmin, color='g', fill=False)  \n",
    "        circle2 =plt.Circle((xo_refr,yo_refr), dmin2, color='y', fill=False)  \n",
    "        ax.add_artist(circle1)\n",
    "        ax.add_artist(circle2)\n",
    "        ax.axis([0.1, 1, -0.55, -0.3])\n",
    "        ax.set_xlabel('X (m)')\n",
    "        ax.set_ylabel('Y (m)')\n",
    "        ax.grid(which='both')\n",
    "        plt.show()\n",
    "        \n",
    "        \n",
    "        time.sleep(0.001)\n",
    "    "
   ]
  },
  {
   "cell_type": "markdown",
   "metadata": {},
   "source": [
    "# Exercise 1"
   ]
  },
  {
   "cell_type": "markdown",
   "metadata": {},
   "source": [
    "Modify the obstacle position (axis x or y) and run the simulation"
   ]
  },
  {
   "cell_type": "code",
   "execution_count": null,
   "metadata": {},
   "outputs": [],
   "source": []
  },
  {
   "cell_type": "code",
   "execution_count": 19,
   "metadata": {},
   "outputs": [],
   "source": [
    "# %load scripts/obstacle_position.py\n",
    "df = [0.4,-0.43575,0.36568]       \n",
    "xo_refr = df[0] \n",
    "yo_refr = df[1]\n",
    "zo_refr = df[2]   "
   ]
  },
  {
   "cell_type": "code",
   "execution_count": 20,
   "metadata": {},
   "outputs": [],
   "source": [
    "# %load scripts/control.py\n",
    "i=0\n",
    "while i<500:\n",
    "        i=i+1\n",
    "        tic = time.clock()\n",
    "        clear_output(wait=True)\n",
    "        \n",
    "        #Obstacle position\n",
    "     \n",
    "        P_obs[0,0] = float(xo_refr)\n",
    "        P_obs[1,0] = float(yo_refr)\n",
    "        P_obs[2,0] = float(zo_refr)\n",
    "\n",
    "        \n",
    "        #Robot Position n-1\n",
    "        \n",
    "        P[0,0] = float(xn)\n",
    "        P[1,0] = float(yn)\n",
    "        P[2,0] = float(zn)\n",
    "                     \n",
    "        \n",
    "        #Desired  robot position\n",
    "        if np.linalg.norm(e) < 0.01 :\n",
    "            n_counter = n_counter + 1\n",
    "            if n_counter > n_points :\n",
    "                n_counter = 1\n",
    "            \n",
    "            with open('bt2pointsb.json', 'r') as fa:\n",
    "                data = json.load(fa)\n",
    "                n_points = data['general']['n']\n",
    "                \n",
    "                x_refr = data['position'+str(n_counter)]['xref']\n",
    "                y_refr = data['position'+str(n_counter)]['yref']\n",
    "                z_refr = data['position'+str(n_counter)]['zref']\n",
    "                  \n",
    "                Pa[0,0] = float(x_refr)\n",
    "                Pa[1,0] = float(y_refr)\n",
    "                Pa[2,0] = float(z_refr)\n",
    "                \n",
    "       \n",
    "    #Distance between robot and obstacle\n",
    "        ex = xo_refr-xn\n",
    "        ey = yo_refr-yn\n",
    "        ez = zo_refr-zn\n",
    "        distance = round(math.sqrt(ex**2 + ey**2 + ez**2),4)\n",
    "\n",
    "                \n",
    "        #Controller calculation\n",
    "        e = Pa - P\n",
    "        hv = np.matmul(k2,np.tanh(np.matmul(k1,e) + np.matmul(k3,e-ea)))\n",
    "        ea = e\n",
    "        \n",
    "        #Collision avoidance algorithm\n",
    "        \n",
    "        r_ao = P_obs - P\n",
    "        n_r_ao = np.linalg.norm(r_ao)\n",
    "        \n",
    "        #First collision condition\n",
    "        if n_r_ao < dmin and n_r_ao > dmin2:\n",
    "            teta = np.arccos(np.matmul(r_ao.transpose(),e)/ (np.linalg.norm(r_ao)*np.linalg.norm(e)) )\n",
    "            alfa = np.arccos(np.matmul(r_ao.transpose(),-P)/ (np.linalg.norm(r_ao)*np.linalg.norm(P)) ) \n",
    "            beta = np.arccos(np.matmul(e.transpose(),-P)/ (np.linalg.norm(P)*np.linalg.norm(e)) )\n",
    "\n",
    "            #second collision condition\n",
    "            if  teta < np.pi*kangle/180:\n",
    "                nr = P / np.linalg.norm(P)\n",
    "                nrg = e / np.linalg.norm(e)\n",
    "                nv = V / np.linalg.norm(V)\n",
    "                nro = r_ao / np.linalg.norm(r_ao)\n",
    "                \n",
    "                # SPEED    \n",
    "                a = np.cross(nro.flatten(),nv.flatten())\n",
    "                b = np.cross(a.flatten(),nro.flatten())\n",
    "                b = b /np.linalg.norm(b)\n",
    "                P_aux = np.zeros((3,1)) \n",
    "                P_aux[0,0] = -float(xn)\n",
    "                P_aux[1,0] = -float(yn) \n",
    "                ang_aux = np.arccos(np.matmul(b,nr)/ (np.linalg.norm(nr)*np.linalg.norm(b)) )\n",
    "                if ang_aux > np.pi/2 :\n",
    "                    b = b\n",
    "                else :\n",
    "                    b = -b\n",
    "  \n",
    "                # AXIS Z\n",
    "                a1 = np.cross(nro.flatten(),P_aux.flatten())\n",
    "                b1 = np.cross(a1.flatten(),nro.flatten())\n",
    "                b1 = b1 /np.linalg.norm(b1)\n",
    "                ang_aux = np.arccos(np.matmul(b1,nr)/ (np.linalg.norm(nr)*np.linalg.norm(b1)) )\n",
    "\n",
    "                             \n",
    "                if ang_aux > np.pi/2 :\n",
    "                    b1 = b1\n",
    "                else :\n",
    "                    b1 = -b1\n",
    "                             \n",
    "                             \n",
    "                ur = r_ao/np.linalg.norm(r_ao)\n",
    "                Fk = (1/(np.power(n_r_ao,3)))\n",
    "                Fd = np.matmul(V.reshape([1,3]),ur.reshape([3,1]))\n",
    "                Ft = kd1*b.reshape([3,1])*Fk + kd2*b1.reshape([3,1])*Fk - kd3*Fk*ur.reshape([3,1]) \n",
    "\n",
    "                vx1 = np.exp(-dmin*tau)*Ft[0,0] + (1-np.exp(-dmin*tau))*hv[0,0]\n",
    "                vy1 = np.exp(-dmin*tau)*Ft[1,0] + (1-np.exp(-dmin*tau))*hv[1,0]\n",
    "                vz1 = np.exp(-dmin*tau)*Ft[2,0] + (1-np.exp(-dmin*tau))*hv[2,0]\n",
    "                             \n",
    "            else: \n",
    "                             \n",
    "                ur = r_ao/np.linalg.norm(r_ao)\n",
    "                Fk = (1/(np.power(n_r_ao,3)))\n",
    "                Ft = - kd3*Fk*ur.reshape([3,1]) \n",
    "                             \n",
    "                vx1 = 0.8*np.exp(-dmin*tau)*hv[0,0] + 1.2*(1-np.exp(-dmin*tau))*Ft[0,0]\n",
    "                vy1 = 0.8*np.exp(-dmin*tau)*hv[1,0] + 1.2*(1-np.exp(-dmin*tau))*Ft[1,0]\n",
    "                vz1 = 0.8*np.exp(-dmin*tau)*hv[2,0] + 1.2*(1-np.exp(-dmin*tau))*Ft[2,0]\n",
    "        \n",
    "        elif n_r_ao < dmin2:\n",
    "                             \n",
    "            vx1 = 0\n",
    "            vy1 = 0\n",
    "            vz1 = 0\n",
    "            \n",
    "            \n",
    "            while n_r_ao < dmin2+0.01:            \n",
    "                      \n",
    "                P_obs[0,0] = float(xo_refr)\n",
    "                P_obs[1,0] = float(yo_refr)\n",
    "                P_obs[2,0] = float(zo_refr)\n",
    "\n",
    "                r_ao = P_obs - P\n",
    "                n_r_ao = np.linalg.norm(r_ao)\n",
    "\n",
    "        else :\n",
    "            vx1 = hv[0,0]\n",
    "            vy1 = hv[1,0]\n",
    "            vz1 = hv[2,0]\n",
    "        \n",
    "        \n",
    "        #Speed limits\n",
    "        VMAX = np.sqrt(vx1*vx1+vy1*vy1+vz1*vz1) \n",
    "        \n",
    "        if (VMAX > vmax):\n",
    "            vx1 = vx1*vmax/VMAX\n",
    "            vy1 = vy1*vmax/VMAX\n",
    "            vz1 = vz1*vmax/VMAX\n",
    "\n",
    "#Update velocity vector                             \n",
    "        V[0,0] = vx1\n",
    "        V[1,0] = vy1\n",
    "        V[2,0] = vz1\n",
    "        \n",
    "        V2[0,i] = vx1\n",
    "        V2[1,i] = vy1\n",
    "        V2[2,i] = vz1\n",
    "        \n",
    "        #  Update position robot\n",
    "        sample_time=time.clock()-tic\n",
    "        xn = float(xn+vx1*0.05)\n",
    "        yn = float(yn+vy1*0.05)\n",
    "        zn = float(zn+vz1*0.05)\n",
    "      \n",
    "        Pp[0,i] = float(xn)\n",
    "        Pp[1,i] = float(yn)\n",
    "        Pp[2,i] = float(zn)\n",
    "        \n",
    "        \n",
    "        \n",
    "        time.sleep(0.001)\n",
    "    "
   ]
  },
  {
   "cell_type": "code",
   "execution_count": 26,
   "metadata": {},
   "outputs": [
    {
     "data": {
      "image/png": "[encoded data removed]",
      "text/plain": [
       "<Figure size 432x288 with 1 Axes>"
      ]
     },
     "metadata": {
      "needs_background": "light"
     },
     "output_type": "display_data"
    }
   ],
   "source": [
    "# %load scripts/plot_system_simple.py\n",
    "i=0\n",
    "for i in range(500):\n",
    "    #Plot trajectory\n",
    "        clear_output(wait=True)\n",
    "        fig = plt.figure()\n",
    "        ax = fig.add_subplot(1, 1, 1)\n",
    "        \n",
    "        if i>40:\n",
    "            ax.plot(Pp[0,(i-40):i+1], Pp[1,(i-40):i+1], 'r')  #plot 4o last points   \n",
    "        else:\n",
    "            ax.plot(Pp[0,0:i+1], Pp[1,0:i+1], 'r')  #plot 4o last points\n",
    "        \n",
    "        ax.plot(Pp[0,i], Pp[1,i], 'ro')   #plot last position\n",
    "        ax.plot(0.15, y_refr, 'bs',0.9, y_refr, 'bs') #plot target points\n",
    "        ax.plot(xo_refr,yo_refr,'rs')  #plot obstacle\n",
    "        circle1 =plt.Circle((xo_refr,yo_refr), dmin, color='g', fill=False)  #plot inverse potential field\n",
    "        circle2 =plt.Circle((xo_refr,yo_refr), dmin2, color='y', fill=False)  #plot inverse potential field\n",
    "        ax.add_artist(circle1)\n",
    "        ax.add_artist(circle2)\n",
    "        ax.axis([0.1, 1, -0.55, -0.3])\n",
    "        ax.set_xlabel('X (m)')\n",
    "        ax.set_ylabel('Y (m)')\n",
    "        ax.grid(which='both')\n",
    "        \n",
    "\n",
    "        plt.show()"
   ]
  },
  {
   "cell_type": "markdown",
   "metadata": {},
   "source": [
    "# Exercise 2"
   ]
  },
  {
   "cell_type": "markdown",
   "metadata": {},
   "source": [
    "Modify the initial position of the robot "
   ]
  },
  {
   "cell_type": "code",
   "execution_count": null,
   "metadata": {},
   "outputs": [],
   "source": []
  },
  {
   "cell_type": "code",
   "execution_count": 38,
   "metadata": {},
   "outputs": [],
   "source": [
    "%load scripts/robot_position.py"
   ]
  },
  {
   "cell_type": "code",
   "execution_count": 39,
   "metadata": {},
   "outputs": [],
   "source": [
    "%load scripts/control.py"
   ]
  },
  {
   "cell_type": "code",
   "execution_count": 40,
   "metadata": {},
   "outputs": [
    {
     "data": {
      "image/png": "[encoded data removed]",
      "text/plain": [
       "<Figure size 432x288 with 1 Axes>"
      ]
     },
     "metadata": {
      "needs_background": "light"
     },
     "output_type": "display_data"
    }
   ],
   "source": [
    "%load scripts/plot_system_simple.py"
   ]
  },
  {
   "cell_type": "markdown",
   "metadata": {},
   "source": [
    "# Exercise 3"
   ]
  },
  {
   "cell_type": "markdown",
   "metadata": {},
   "source": [
    "Plot robot position axis x and y as subplots in the simulation"
   ]
  },
  {
   "cell_type": "code",
   "execution_count": null,
   "metadata": {},
   "outputs": [],
   "source": []
  },
  {
   "cell_type": "code",
   "execution_count": null,
   "metadata": {},
   "outputs": [],
   "source": [
    "%load scripts/plot_system_simple.py"
   ]
  },
  {
   "cell_type": "code",
   "execution_count": null,
   "metadata": {},
   "outputs": [],
   "source": [
    "%load scripts/control.py"
   ]
  },
  {
   "cell_type": "code",
   "execution_count": null,
   "metadata": {},
   "outputs": [],
   "source": [
    "%load scripts/plot_system.py"
   ]
  }
 ],
 "metadata": {
  "kernelspec": {
   "display_name": "Python 3",
   "language": "python",
   "name": "python3"
  },
  "language_info": {
   "codemirror_mode": {
    "name": "ipython",
    "version": 3
   },
   "file_extension": ".py",
   "mimetype": "text/x-python",
   "name": "python",
   "nbconvert_exporter": "python",
   "pygments_lexer": "ipython3",
   "version": "3.6.8"
  }
 },
 "nbformat": 4,
 "nbformat_minor": 4
}
